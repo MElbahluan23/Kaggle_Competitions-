{
 "cells": [
  {
   "cell_type": "markdown",
   "id": "156bfe23",
   "metadata": {},
   "source": [
    "# Can you predict the type of a dry bean from its shape features?\n",
    "\n"
   ]
  },
  {
   "cell_type": "markdown",
   "id": "618158bc",
   "metadata": {},
   "source": [
    "## Data fields\n",
    "* <b>ID -</b> an ID for this instance<br>\n",
    "* <b>Area - (A)</b>, The area of a bean zone and the number of pixels within its boundaries.<br>\n",
    "* <b>Perimeter - (P)</b>, Bean circumference is defined as the length of its border.<br>\n",
    "* <b>MajorAxisLength - (L)</b>, The distance between the ends of the longest line that can be drawn from a bean.<br>\n",
    "* <b>MinorAxisLength - (l)</b>, The longest line that can be drawn from the bean while standing perpendicular to the main axis.<br>\n",
    "* <b>AspectRatio - (K)</b>, Defines the relationship between L and l.<br>\n",
    "* <b>Eccentricity - (Ec)</b>, Eccentricity of the ellipse having the same moments as the region.<br>\n",
    "* <b>ConvexArea - (C)</b>, Number of pixels in the smallest convex polygon that can contain the area of a bean seed.<br>\n",
    "* <b>EquivDiameter - (Ed)</b>, The diameter of a circle having the same area as a bean seed area.<br>\n",
    "* <b>Extent - (Ex)</b>, The ratio of the pixels in the bounding box to the bean area.<br>\n",
    "* <b>Solidity - (S)</b>, Also known as convexity. The ratio of the pixels in the convex shell to those found in beans.<br>\n",
    "* <b>Roundness - (R)</b>, Calculated with the following formula: (4piA)/(P^2)<br>\n",
    "* <b>Compactness - (CO)</b>, Measures the roundness of an object: Ed/L<br>\n",
    "* <b>ShapeFactor1 - (SF1)</b><br>\n",
    "* <b>ShapeFactor2 - (SF2)</b><br>\n",
    "* <b>ShapeFactor3 - (SF3)</b><br>\n",
    "* <b>ShapeFactor4 - (SF4)</b><br>\n",
    "* <b>y -</b> the class of the bean. It can be any of BARBUNYA, SIRA, HOROZ, DERMASON, CALI, BOMBAY, and SEKER.<br>"
   ]
  },
  {
   "cell_type": "markdown",
   "id": "ce42443f",
   "metadata": {},
   "source": [
    "# Import the libraries"
   ]
  },
  {
   "cell_type": "code",
   "execution_count": 21,
   "id": "f36f2329",
   "metadata": {},
   "outputs": [],
   "source": [
    "## for data\n",
    "import pandas as pd\n",
    "import numpy as np\n",
    "import os\n",
    "\n",
    "## for plotting\n",
    "import matplotlib.pyplot as plt\n",
    "import seaborn as sns\n",
    "\n",
    "\n",
    "## for processing\n",
    "from sklearn.utils.class_weight import compute_sample_weight\n",
    "from sklearn.decomposition import PCA\n",
    "from imblearn.over_sampling import SMOTE\n",
    "from sklearn.preprocessing import StandardScaler\n",
    "from sklearn.preprocessing import LabelEncoder\n",
    "from tensorflow.keras.utils import to_categorical\n",
    "\n",
    "## For Model\n",
    "import tensorflow as tf\n",
    "from keras.layers import Dense,Dropout\n",
    "from keras.models import Sequential\n",
    "## For Evaluation\n",
    "from sklearn.metrics import precision_score,f1_score,recall_score,classification_report\n",
    "from sklearn.metrics import classification_report\n"
   ]
  },
  {
   "cell_type": "markdown",
   "id": "b1cea611",
   "metadata": {},
   "source": [
    "## Get the Data"
   ]
  },
  {
   "cell_type": "code",
   "execution_count": 4,
   "id": "6b53d186",
   "metadata": {},
   "outputs": [],
   "source": [
    "DATA_PATH=\"./Datasets/\"\n",
    "data = pd.read_csv(os.path.join(DATA_PATH, 'train.csv'))\n"
   ]
  },
  {
   "cell_type": "markdown",
   "id": "7e91b419",
   "metadata": {},
   "source": [
    "# Clean the Data"
   ]
  },
  {
   "cell_type": "code",
   "execution_count": 5,
   "id": "241377dd",
   "metadata": {},
   "outputs": [
    {
     "data": {
      "text/plain": [
       "ID                 0\n",
       "Area               0\n",
       "Perimeter          0\n",
       "MajorAxisLength    0\n",
       "MinorAxisLength    0\n",
       "AspectRation       0\n",
       "Eccentricity       0\n",
       "ConvexArea         0\n",
       "EquivDiameter      0\n",
       "Extent             0\n",
       "Solidity           0\n",
       "roundness          0\n",
       "Compactness        0\n",
       "ShapeFactor1       0\n",
       "ShapeFactor2       0\n",
       "ShapeFactor3       0\n",
       "ShapeFactor4       0\n",
       "y                  0\n",
       "dtype: int64"
      ]
     },
     "execution_count": 5,
     "metadata": {},
     "output_type": "execute_result"
    }
   ],
   "source": [
    "data.isnull().sum(axis=0)"
   ]
  },
  {
   "cell_type": "markdown",
   "id": "91b0c0b2",
   "metadata": {},
   "source": [
    "## Explore the Data"
   ]
  },
  {
   "cell_type": "code",
   "execution_count": 6,
   "id": "5d367f4b",
   "metadata": {
    "scrolled": true
   },
   "outputs": [
    {
     "name": "stdout",
     "output_type": "stream",
     "text": [
      "Shape (10834, 18)\n",
      "-----------------------\n",
      "<class 'pandas.core.frame.DataFrame'>\n",
      "RangeIndex: 10834 entries, 0 to 10833\n",
      "Data columns (total 18 columns):\n",
      " #   Column           Non-Null Count  Dtype  \n",
      "---  ------           --------------  -----  \n",
      " 0   ID               10834 non-null  int64  \n",
      " 1   Area             10834 non-null  int64  \n",
      " 2   Perimeter        10834 non-null  float64\n",
      " 3   MajorAxisLength  10834 non-null  float64\n",
      " 4   MinorAxisLength  10834 non-null  float64\n",
      " 5   AspectRation     10834 non-null  float64\n",
      " 6   Eccentricity     10834 non-null  float64\n",
      " 7   ConvexArea       10834 non-null  int64  \n",
      " 8   EquivDiameter    10834 non-null  float64\n",
      " 9   Extent           10834 non-null  float64\n",
      " 10  Solidity         10834 non-null  float64\n",
      " 11  roundness        10834 non-null  float64\n",
      " 12  Compactness      10834 non-null  float64\n",
      " 13  ShapeFactor1     10834 non-null  float64\n",
      " 14  ShapeFactor2     10834 non-null  float64\n",
      " 15  ShapeFactor3     10834 non-null  float64\n",
      " 16  ShapeFactor4     10834 non-null  float64\n",
      " 17  y                10834 non-null  object \n",
      "dtypes: float64(14), int64(3), object(1)\n",
      "memory usage: 1.5+ MB\n",
      "None\n"
     ]
    }
   ],
   "source": [
    "print(\"Shape\",data.shape)\n",
    "print(\"-----------------------\")\n",
    "print(data.info())\n"
   ]
  },
  {
   "cell_type": "code",
   "execution_count": 7,
   "id": "4157e742",
   "metadata": {},
   "outputs": [
    {
     "data": {
      "text/html": [
       "<div>\n",
       "<style scoped>\n",
       "    .dataframe tbody tr th:only-of-type {\n",
       "        vertical-align: middle;\n",
       "    }\n",
       "\n",
       "    .dataframe tbody tr th {\n",
       "        vertical-align: top;\n",
       "    }\n",
       "\n",
       "    .dataframe thead th {\n",
       "        text-align: right;\n",
       "    }\n",
       "</style>\n",
       "<table border=\"1\" class=\"dataframe\">\n",
       "  <thead>\n",
       "    <tr style=\"text-align: right;\">\n",
       "      <th></th>\n",
       "      <th>count</th>\n",
       "      <th>mean</th>\n",
       "      <th>std</th>\n",
       "      <th>min</th>\n",
       "      <th>25%</th>\n",
       "      <th>50%</th>\n",
       "      <th>75%</th>\n",
       "      <th>max</th>\n",
       "    </tr>\n",
       "  </thead>\n",
       "  <tbody>\n",
       "    <tr>\n",
       "      <th>ID</th>\n",
       "      <td>10834.0</td>\n",
       "      <td>5416.500000</td>\n",
       "      <td>3127.650742</td>\n",
       "      <td>0.000000</td>\n",
       "      <td>2708.250000</td>\n",
       "      <td>5416.500000</td>\n",
       "      <td>8124.750000</td>\n",
       "      <td>10833.000000</td>\n",
       "    </tr>\n",
       "    <tr>\n",
       "      <th>Area</th>\n",
       "      <td>10834.0</td>\n",
       "      <td>53095.675189</td>\n",
       "      <td>29542.542580</td>\n",
       "      <td>20420.000000</td>\n",
       "      <td>36343.500000</td>\n",
       "      <td>44645.000000</td>\n",
       "      <td>61295.000000</td>\n",
       "      <td>254616.000000</td>\n",
       "    </tr>\n",
       "    <tr>\n",
       "      <th>Perimeter</th>\n",
       "      <td>10834.0</td>\n",
       "      <td>855.274892</td>\n",
       "      <td>214.991122</td>\n",
       "      <td>524.932000</td>\n",
       "      <td>703.601250</td>\n",
       "      <td>793.739500</td>\n",
       "      <td>975.517500</td>\n",
       "      <td>1985.370000</td>\n",
       "    </tr>\n",
       "    <tr>\n",
       "      <th>MajorAxisLength</th>\n",
       "      <td>10834.0</td>\n",
       "      <td>320.036169</td>\n",
       "      <td>85.961630</td>\n",
       "      <td>183.601165</td>\n",
       "      <td>253.501071</td>\n",
       "      <td>296.377365</td>\n",
       "      <td>376.068399</td>\n",
       "      <td>738.860153</td>\n",
       "    </tr>\n",
       "    <tr>\n",
       "      <th>MinorAxisLength</th>\n",
       "      <td>10834.0</td>\n",
       "      <td>202.410342</td>\n",
       "      <td>45.113965</td>\n",
       "      <td>129.576207</td>\n",
       "      <td>175.927024</td>\n",
       "      <td>192.525040</td>\n",
       "      <td>217.315195</td>\n",
       "      <td>450.926187</td>\n",
       "    </tr>\n",
       "    <tr>\n",
       "      <th>AspectRation</th>\n",
       "      <td>10834.0</td>\n",
       "      <td>1.581294</td>\n",
       "      <td>0.244314</td>\n",
       "      <td>1.024868</td>\n",
       "      <td>1.432985</td>\n",
       "      <td>1.550761</td>\n",
       "      <td>1.703029</td>\n",
       "      <td>2.388873</td>\n",
       "    </tr>\n",
       "    <tr>\n",
       "      <th>Eccentricity</th>\n",
       "      <td>10834.0</td>\n",
       "      <td>0.750588</td>\n",
       "      <td>0.091481</td>\n",
       "      <td>0.218951</td>\n",
       "      <td>0.716250</td>\n",
       "      <td>0.764314</td>\n",
       "      <td>0.809450</td>\n",
       "      <td>0.908167</td>\n",
       "    </tr>\n",
       "    <tr>\n",
       "      <th>ConvexArea</th>\n",
       "      <td>10834.0</td>\n",
       "      <td>53816.205926</td>\n",
       "      <td>29999.710739</td>\n",
       "      <td>20684.000000</td>\n",
       "      <td>36731.250000</td>\n",
       "      <td>45148.000000</td>\n",
       "      <td>62251.500000</td>\n",
       "      <td>263261.000000</td>\n",
       "    </tr>\n",
       "    <tr>\n",
       "      <th>EquivDiameter</th>\n",
       "      <td>10834.0</td>\n",
       "      <td>253.123583</td>\n",
       "      <td>59.433080</td>\n",
       "      <td>161.243764</td>\n",
       "      <td>215.113880</td>\n",
       "      <td>238.419335</td>\n",
       "      <td>279.362162</td>\n",
       "      <td>569.374358</td>\n",
       "    </tr>\n",
       "    <tr>\n",
       "      <th>Extent</th>\n",
       "      <td>10834.0</td>\n",
       "      <td>0.749937</td>\n",
       "      <td>0.048949</td>\n",
       "      <td>0.555315</td>\n",
       "      <td>0.718778</td>\n",
       "      <td>0.760141</td>\n",
       "      <td>0.786871</td>\n",
       "      <td>0.866195</td>\n",
       "    </tr>\n",
       "    <tr>\n",
       "      <th>Solidity</th>\n",
       "      <td>10834.0</td>\n",
       "      <td>0.987152</td>\n",
       "      <td>0.004626</td>\n",
       "      <td>0.919246</td>\n",
       "      <td>0.985627</td>\n",
       "      <td>0.988290</td>\n",
       "      <td>0.990014</td>\n",
       "      <td>0.994677</td>\n",
       "    </tr>\n",
       "    <tr>\n",
       "      <th>roundness</th>\n",
       "      <td>10834.0</td>\n",
       "      <td>0.873647</td>\n",
       "      <td>0.059344</td>\n",
       "      <td>0.489618</td>\n",
       "      <td>0.833479</td>\n",
       "      <td>0.883472</td>\n",
       "      <td>0.916883</td>\n",
       "      <td>0.990685</td>\n",
       "    </tr>\n",
       "    <tr>\n",
       "      <th>Compactness</th>\n",
       "      <td>10834.0</td>\n",
       "      <td>0.800244</td>\n",
       "      <td>0.061228</td>\n",
       "      <td>0.645368</td>\n",
       "      <td>0.763378</td>\n",
       "      <td>0.801428</td>\n",
       "      <td>0.834068</td>\n",
       "      <td>0.987303</td>\n",
       "    </tr>\n",
       "    <tr>\n",
       "      <th>ShapeFactor1</th>\n",
       "      <td>10834.0</td>\n",
       "      <td>0.006559</td>\n",
       "      <td>0.001127</td>\n",
       "      <td>0.002856</td>\n",
       "      <td>0.005888</td>\n",
       "      <td>0.006643</td>\n",
       "      <td>0.007268</td>\n",
       "      <td>0.009897</td>\n",
       "    </tr>\n",
       "    <tr>\n",
       "      <th>ShapeFactor2</th>\n",
       "      <td>10834.0</td>\n",
       "      <td>0.001718</td>\n",
       "      <td>0.000593</td>\n",
       "      <td>0.000564</td>\n",
       "      <td>0.001161</td>\n",
       "      <td>0.001700</td>\n",
       "      <td>0.002169</td>\n",
       "      <td>0.003665</td>\n",
       "    </tr>\n",
       "    <tr>\n",
       "      <th>ShapeFactor3</th>\n",
       "      <td>10834.0</td>\n",
       "      <td>0.644139</td>\n",
       "      <td>0.098268</td>\n",
       "      <td>0.416499</td>\n",
       "      <td>0.582747</td>\n",
       "      <td>0.642287</td>\n",
       "      <td>0.695670</td>\n",
       "      <td>0.974767</td>\n",
       "    </tr>\n",
       "    <tr>\n",
       "      <th>ShapeFactor4</th>\n",
       "      <td>10834.0</td>\n",
       "      <td>0.995083</td>\n",
       "      <td>0.004306</td>\n",
       "      <td>0.947687</td>\n",
       "      <td>0.993690</td>\n",
       "      <td>0.996397</td>\n",
       "      <td>0.997895</td>\n",
       "      <td>0.999733</td>\n",
       "    </tr>\n",
       "  </tbody>\n",
       "</table>\n",
       "</div>"
      ],
      "text/plain": [
       "                   count          mean           std           min  \\\n",
       "ID               10834.0   5416.500000   3127.650742      0.000000   \n",
       "Area             10834.0  53095.675189  29542.542580  20420.000000   \n",
       "Perimeter        10834.0    855.274892    214.991122    524.932000   \n",
       "MajorAxisLength  10834.0    320.036169     85.961630    183.601165   \n",
       "MinorAxisLength  10834.0    202.410342     45.113965    129.576207   \n",
       "AspectRation     10834.0      1.581294      0.244314      1.024868   \n",
       "Eccentricity     10834.0      0.750588      0.091481      0.218951   \n",
       "ConvexArea       10834.0  53816.205926  29999.710739  20684.000000   \n",
       "EquivDiameter    10834.0    253.123583     59.433080    161.243764   \n",
       "Extent           10834.0      0.749937      0.048949      0.555315   \n",
       "Solidity         10834.0      0.987152      0.004626      0.919246   \n",
       "roundness        10834.0      0.873647      0.059344      0.489618   \n",
       "Compactness      10834.0      0.800244      0.061228      0.645368   \n",
       "ShapeFactor1     10834.0      0.006559      0.001127      0.002856   \n",
       "ShapeFactor2     10834.0      0.001718      0.000593      0.000564   \n",
       "ShapeFactor3     10834.0      0.644139      0.098268      0.416499   \n",
       "ShapeFactor4     10834.0      0.995083      0.004306      0.947687   \n",
       "\n",
       "                          25%           50%           75%            max  \n",
       "ID                2708.250000   5416.500000   8124.750000   10833.000000  \n",
       "Area             36343.500000  44645.000000  61295.000000  254616.000000  \n",
       "Perimeter          703.601250    793.739500    975.517500    1985.370000  \n",
       "MajorAxisLength    253.501071    296.377365    376.068399     738.860153  \n",
       "MinorAxisLength    175.927024    192.525040    217.315195     450.926187  \n",
       "AspectRation         1.432985      1.550761      1.703029       2.388873  \n",
       "Eccentricity         0.716250      0.764314      0.809450       0.908167  \n",
       "ConvexArea       36731.250000  45148.000000  62251.500000  263261.000000  \n",
       "EquivDiameter      215.113880    238.419335    279.362162     569.374358  \n",
       "Extent               0.718778      0.760141      0.786871       0.866195  \n",
       "Solidity             0.985627      0.988290      0.990014       0.994677  \n",
       "roundness            0.833479      0.883472      0.916883       0.990685  \n",
       "Compactness          0.763378      0.801428      0.834068       0.987303  \n",
       "ShapeFactor1         0.005888      0.006643      0.007268       0.009897  \n",
       "ShapeFactor2         0.001161      0.001700      0.002169       0.003665  \n",
       "ShapeFactor3         0.582747      0.642287      0.695670       0.974767  \n",
       "ShapeFactor4         0.993690      0.996397      0.997895       0.999733  "
      ]
     },
     "execution_count": 7,
     "metadata": {},
     "output_type": "execute_result"
    }
   ],
   "source": [
    "data.describe().T\n"
   ]
  },
  {
   "cell_type": "code",
   "execution_count": 8,
   "id": "1ac710ed",
   "metadata": {},
   "outputs": [
    {
     "data": {
      "image/png": "[encoded data removed]",
      "text/plain": [
       "<Figure size 432x288 with 1 Axes>"
      ]
     },
     "metadata": {
      "needs_background": "light"
     },
     "output_type": "display_data"
    }
   ],
   "source": [
    "data[\"y\"].value_counts().plot(kind='barh');"
   ]
  },
  {
   "cell_type": "code",
   "execution_count": 9,
   "id": "74c84cf6",
   "metadata": {},
   "outputs": [],
   "source": [
    "copy=data.copy()"
   ]
  },
  {
   "cell_type": "code",
   "execution_count": 10,
   "id": "0c8ff4e1",
   "metadata": {},
   "outputs": [
    {
     "data": {
      "image/png": "[encoded data removed]",
      "text/plain": [
       "<Figure size 792x648 with 2 Axes>"
      ]
     },
     "metadata": {
      "needs_background": "light"
     },
     "output_type": "display_data"
    }
   ],
   "source": [
    "corr_matrix=data.corr()\n",
    "mask=np.triu(np.ones_like(corr_matrix,dtype=bool))\n",
    "fig,ax=plt.subplots(figsize=(11,9))\n",
    "cmap=sns.diverging_palette(230,20,as_cmap=True)\n",
    "sns.heatmap(corr_matrix,mask=mask,cmap=cmap,vmax=.3,center=0,annot=True,\n",
    "           square=True,linewidths=.5,cbar_kws={'shrink':.5});"
   ]
  },
  {
   "cell_type": "markdown",
   "id": "d8e2ded8",
   "metadata": {},
   "source": [
    "## Insights form the heatmap\n",
    "Some features have correlation = 1 with each other so we can safely drop one of them\n",
    "* <b>ConvexArea and Area</b>\n",
    "* <b>ShapeFactor 3 and Compactness</b>\n",
    "\n",
    "\n",
    "Some feature have correlation almost equal to -1 (-0.99,-0.98) , we can also choose to drop one of them or take pca\n",
    "* <b> AscpectRatio and Compactness</b>\n",
    "* <b> AscpectRatio and ShapeFactor 3</b>\n",
    "* <b> MajorAxisLength and Perimeter</b>\n",
    "* <b> Perimeter and Area</b>\n",
    "* <b> EquivDiameter and Area</b>\n",
    "* <b> EquivDiameter and Perimeter</b>\n",
    "* <b> Eccentricity and ShapeFactor 3</b>"
   ]
  },
  {
   "cell_type": "code",
   "execution_count": 11,
   "id": "0b2fbcfe",
   "metadata": {},
   "outputs": [],
   "source": [
    "df = data.copy()\n",
    "df.drop(\"ID\",axis=1,inplace=True)\n",
    "columns_to_drop  = ['Area','EquivDiameter','Eccentricity','Perimeter','AspectRation'\n",
    "                   ,'MinorAxisLength','Compactness']\n",
    "\n",
    "df.drop(columns_to_drop,axis=1,inplace=True)"
   ]
  },
  {
   "cell_type": "markdown",
   "id": "d27ba273",
   "metadata": {},
   "source": [
    "### Handling Numerical Attributes"
   ]
  },
  {
   "cell_type": "code",
   "execution_count": 12,
   "id": "eee4f381",
   "metadata": {},
   "outputs": [],
   "source": [
    "Num_Training_data=df.drop(columns=[\"y\"])"
   ]
  },
  {
   "cell_type": "code",
   "execution_count": 13,
   "id": "645b3853",
   "metadata": {},
   "outputs": [],
   "source": [
    "# Scale the features\n",
    "from sklearn.preprocessing import MinMaxScaler\n",
    "scaler = MinMaxScaler()\n",
    "Num_Training_data_Scaled = scaler.fit_transform(Num_Training_data.astype(np.float64))\n",
    "train=pd.DataFrame(Num_Training_data_Scaled,columns=Num_Training_data.columns)\n",
    "df.reset_index(inplace=True)\n",
    "X=train"
   ]
  },
  {
   "cell_type": "markdown",
   "id": "8427ffcd",
   "metadata": {},
   "source": [
    "### Handling Categorical Attributes"
   ]
  },
  {
   "cell_type": "code",
   "execution_count": 14,
   "id": "59ecaa87",
   "metadata": {},
   "outputs": [],
   "source": [
    "df.y = pd.Categorical(df.y)\n",
    "df.y = df.y.cat.codes\n",
    "y = pd.DataFrame(to_categorical(df.y))\n"
   ]
  },
  {
   "cell_type": "markdown",
   "id": "b5df3a18",
   "metadata": {},
   "source": [
    "### Split the Data"
   ]
  },
  {
   "cell_type": "code",
   "execution_count": 16,
   "id": "7b5fca02",
   "metadata": {},
   "outputs": [],
   "source": [
    "from sklearn.model_selection import StratifiedShuffleSplit\n",
    "\n",
    "split = StratifiedShuffleSplit(n_splits=3, test_size=0.3, random_state=42)\n",
    "for train_index, test_index in split.split(X, y):\n",
    "    X_train = X.loc[train_index]\n",
    "    X_test = X.loc[test_index]\n",
    "    y_train = y.loc[train_index]\n",
    "    y_test = y.loc[test_index]\n"
   ]
  },
  {
   "cell_type": "markdown",
   "id": "f3f9098d",
   "metadata": {},
   "source": [
    "## Model"
   ]
  },
  {
   "cell_type": "markdown",
   "id": "ddbe908d",
   "metadata": {},
   "source": [
    "### Deep Network\n"
   ]
  },
  {
   "cell_type": "code",
   "execution_count": 82,
   "id": "1effef54",
   "metadata": {},
   "outputs": [
    {
     "name": "stdout",
     "output_type": "stream",
     "text": [
      "Epoch 1/50\n",
      "237/237 [==============================] - 1s 566us/step - loss: 0.9479 - precision_24: 0.9059 - recall_24: 0.4253\n",
      "Epoch 2/50\n",
      "237/237 [==============================] - 0s 579us/step - loss: 0.3489 - precision_24: 0.8937 - recall_24: 0.8570\n",
      "Epoch 3/50\n",
      "237/237 [==============================] - 0s 575us/step - loss: 0.3220 - precision_24: 0.8891 - recall_24: 0.8694\n",
      "Epoch 4/50\n",
      "237/237 [==============================] - 0s 571us/step - loss: 0.2945 - precision_24: 0.9020 - recall_24: 0.8851\n",
      "Epoch 5/50\n",
      "237/237 [==============================] - 0s 579us/step - loss: 0.2755 - precision_24: 0.9100 - recall_24: 0.8916\n",
      "Epoch 6/50\n",
      "237/237 [==============================] - 0s 579us/step - loss: 0.2681 - precision_24: 0.9108 - recall_24: 0.8945\n",
      "Epoch 7/50\n",
      "237/237 [==============================] - 0s 579us/step - loss: 0.2717 - precision_24: 0.9075 - recall_24: 0.8917\n",
      "Epoch 8/50\n",
      "237/237 [==============================] - 0s 617us/step - loss: 0.2687 - precision_24: 0.9095 - recall_24: 0.8929\n",
      "Epoch 9/50\n",
      "237/237 [==============================] - 0s 583us/step - loss: 0.2563 - precision_24: 0.9125 - recall_24: 0.8963\n",
      "Epoch 10/50\n",
      "237/237 [==============================] - 0s 579us/step - loss: 0.2599 - precision_24: 0.9083 - recall_24: 0.8944\n",
      "Epoch 11/50\n",
      "237/237 [==============================] - 0s 592us/step - loss: 0.2541 - precision_24: 0.9147 - recall_24: 0.8992\n",
      "Epoch 12/50\n",
      "237/237 [==============================] - 0s 609us/step - loss: 0.2495 - precision_24: 0.9182 - recall_24: 0.9043\n",
      "Epoch 13/50\n",
      "237/237 [==============================] - 0s 596us/step - loss: 0.2524 - precision_24: 0.9135 - recall_24: 0.9008\n",
      "Epoch 14/50\n",
      "237/237 [==============================] - 0s 596us/step - loss: 0.2537 - precision_24: 0.9121 - recall_24: 0.8987\n",
      "Epoch 15/50\n",
      "237/237 [==============================] - 0s 592us/step - loss: 0.2430 - precision_24: 0.9200 - recall_24: 0.9073\n",
      "Epoch 16/50\n",
      "237/237 [==============================] - 0s 566us/step - loss: 0.2489 - precision_24: 0.9155 - recall_24: 0.9028\n",
      "Epoch 17/50\n",
      "237/237 [==============================] - 0s 571us/step - loss: 0.2431 - precision_24: 0.9174 - recall_24: 0.9053\n",
      "Epoch 18/50\n",
      "237/237 [==============================] - 0s 604us/step - loss: 0.2455 - precision_24: 0.9177 - recall_24: 0.9043\n",
      "Epoch 19/50\n",
      "237/237 [==============================] - 0s 604us/step - loss: 0.2414 - precision_24: 0.9185 - recall_24: 0.9051\n",
      "Epoch 20/50\n",
      "237/237 [==============================] - 0s 541us/step - loss: 0.2504 - precision_24: 0.9156 - recall_24: 0.9027\n",
      "Epoch 21/50\n",
      "237/237 [==============================] - 0s 532us/step - loss: 0.2449 - precision_24: 0.9193 - recall_24: 0.9053\n",
      "Epoch 22/50\n",
      "237/237 [==============================] - 0s 566us/step - loss: 0.2424 - precision_24: 0.9195 - recall_24: 0.9064\n",
      "Epoch 23/50\n",
      "237/237 [==============================] - 0s 528us/step - loss: 0.2433 - precision_24: 0.9193 - recall_24: 0.9049\n",
      "Epoch 24/50\n",
      "237/237 [==============================] - 0s 537us/step - loss: 0.2373 - precision_24: 0.9215 - recall_24: 0.9058\n",
      "Epoch 25/50\n",
      "237/237 [==============================] - 0s 537us/step - loss: 0.2351 - precision_24: 0.9207 - recall_24: 0.9081\n",
      "Epoch 26/50\n",
      "237/237 [==============================] - 0s 552us/step - loss: 0.2400 - precision_24: 0.9186 - recall_24: 0.9064\n",
      "Epoch 27/50\n",
      "237/237 [==============================] - 0s 558us/step - loss: 0.2343 - precision_24: 0.9196 - recall_24: 0.9048\n",
      "Epoch 28/50\n",
      "237/237 [==============================] - 0s 537us/step - loss: 0.2299 - precision_24: 0.9223 - recall_24: 0.9111\n",
      "Epoch 29/50\n",
      "237/237 [==============================] - 0s 541us/step - loss: 0.2338 - precision_24: 0.9229 - recall_24: 0.9093\n",
      "Epoch 30/50\n",
      "237/237 [==============================] - 0s 549us/step - loss: 0.2391 - precision_24: 0.9158 - recall_24: 0.9023\n",
      "Epoch 31/50\n",
      "237/237 [==============================] - 0s 549us/step - loss: 0.2312 - precision_24: 0.9210 - recall_24: 0.9086\n",
      "Epoch 32/50\n",
      "237/237 [==============================] - 0s 541us/step - loss: 0.2307 - precision_24: 0.9233 - recall_24: 0.9110\n",
      "Epoch 33/50\n",
      "237/237 [==============================] - 0s 545us/step - loss: 0.2287 - precision_24: 0.9218 - recall_24: 0.9090\n",
      "Epoch 34/50\n",
      "237/237 [==============================] - 0s 558us/step - loss: 0.2291 - precision_24: 0.9234 - recall_24: 0.9115\n",
      "Epoch 35/50\n",
      "237/237 [==============================] - 0s 545us/step - loss: 0.2308 - precision_24: 0.9195 - recall_24: 0.9069\n",
      "Epoch 36/50\n",
      "237/237 [==============================] - 0s 545us/step - loss: 0.2260 - precision_24: 0.9215 - recall_24: 0.9106\n",
      "Epoch 37/50\n",
      "237/237 [==============================] - 0s 549us/step - loss: 0.2265 - precision_24: 0.9237 - recall_24: 0.9136\n",
      "Epoch 38/50\n",
      "237/237 [==============================] - 0s 549us/step - loss: 0.2254 - precision_24: 0.9228 - recall_24: 0.9107\n",
      "Epoch 39/50\n",
      "237/237 [==============================] - 0s 554us/step - loss: 0.2221 - precision_24: 0.9240 - recall_24: 0.9124\n",
      "Epoch 40/50\n",
      "237/237 [==============================] - 0s 545us/step - loss: 0.2255 - precision_24: 0.9251 - recall_24: 0.9143\n",
      "Epoch 41/50\n",
      "237/237 [==============================] - 0s 537us/step - loss: 0.2264 - precision_24: 0.9237 - recall_24: 0.9112\n",
      "Epoch 42/50\n",
      "237/237 [==============================] - 0s 537us/step - loss: 0.2250 - precision_24: 0.9228 - recall_24: 0.9083\n",
      "Epoch 43/50\n",
      "237/237 [==============================] - 0s 579us/step - loss: 0.2210 - precision_24: 0.9262 - recall_24: 0.9123\n",
      "Epoch 44/50\n",
      "237/237 [==============================] - 0s 541us/step - loss: 0.2214 - precision_24: 0.9234 - recall_24: 0.9110\n",
      "Epoch 45/50\n",
      "237/237 [==============================] - 0s 549us/step - loss: 0.2251 - precision_24: 0.9227 - recall_24: 0.9105\n",
      "Epoch 46/50\n",
      "237/237 [==============================] - 0s 541us/step - loss: 0.2250 - precision_24: 0.9215 - recall_24: 0.9098\n",
      "Epoch 47/50\n",
      "237/237 [==============================] - 0s 537us/step - loss: 0.2250 - precision_24: 0.9216 - recall_24: 0.9097\n",
      "Epoch 48/50\n",
      "237/237 [==============================] - 0s 528us/step - loss: 0.2186 - precision_24: 0.9260 - recall_24: 0.9136\n",
      "Epoch 49/50\n",
      "237/237 [==============================] - 0s 541us/step - loss: 0.2178 - precision_24: 0.9258 - recall_24: 0.9131\n",
      "Epoch 50/50\n",
      "237/237 [==============================] - 0s 541us/step - loss: 0.2214 - precision_24: 0.9243 - recall_24: 0.9119\n"
     ]
    },
    {
     "data": {
      "text/plain": [
       "<keras.callbacks.History at 0x1d20fadd850>"
      ]
     },
     "execution_count": 82,
     "metadata": {},
     "output_type": "execute_result"
    }
   ],
   "source": [
    "# Import the early stopping callback\n",
    "from keras.callbacks import EarlyStopping\n",
    "# Define a callback to monitor val_acc\n",
    "\n",
    "\n",
    "n_cols = X_train.shape[1]                                                \n",
    "model = Sequential()\n",
    "model.add(Dense(128, input_shape=(n_cols,), activation='relu'))\n",
    "model.add(Dense(64 , activation='relu'))\n",
    "model.add(Dense(32 , activation='relu'))\n",
    "  \n",
    "model.add(Dense(7,activation='softmax'))\n",
    "model.compile(loss='categorical_crossentropy',\n",
    "              optimizer='adam',\n",
    "             metrics=[tf.keras.metrics.Precision(), tf.keras.metrics.Recall()])\n",
    "\n",
    "model.fit(X_train, y_train, epochs=50)"
   ]
  },
  {
   "cell_type": "code",
   "execution_count": 84,
   "id": "b5db6302",
   "metadata": {},
   "outputs": [
    {
     "name": "stdout",
     "output_type": "stream",
     "text": [
      "102/102 [==============================] - 0s 406us/step - loss: 0.2086 - precision_24: 0.9310 - recall_24: 0.9213\n"
     ]
    },
    {
     "data": {
      "text/plain": [
       "0.9309915900230408"
      ]
     },
     "execution_count": 84,
     "metadata": {},
     "output_type": "execute_result"
    }
   ],
   "source": [
    "model.evaluate(X_test, y_test)[1]"
   ]
  }
 ],
 "metadata": {
  "kernelspec": {
   "display_name": "Python 3 (ipykernel)",
   "language": "python",
   "name": "python3"
  },
  "language_info": {
   "codemirror_mode": {
    "name": "ipython",
    "version": 3
   },
   "file_extension": ".py",
   "mimetype": "text/x-python",
   "name": "python",
   "nbconvert_exporter": "python",
   "pygments_lexer": "ipython3",
   "version": "3.8.8"
  }
 },
 "nbformat": 4,
 "nbformat_minor": 5
}
